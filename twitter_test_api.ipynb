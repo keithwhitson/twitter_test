{
 "cells": [
  {
   "cell_type": "code",
   "execution_count": 60,
   "metadata": {
    "collapsed": false
   },
   "outputs": [
    {
     "name": "stdout",
     "output_type": "stream",
     "text": [
      "Damn you give us Daredevil, Jessica jones, and Now Luke cage Thank You All Them are GR8T @Marvel @netflix #WorldCantWaitToSeeIronFistNext\n",
      "RT @genebaur: We're Past the Point of No Return for Climate Change @alternet https://t.co/eYzyFK7933\n",
      "أذكار الأذان:اللهم رب هذه الدعوة التامة والصلاة القائم https://t.co/o3Nv3eIho1\n",
      "RT @Infinniityy: ¿Casualidad? ¿Destino? No sé, pero te conocí por algo.\n",
      "Do you like girls who talk a lot or are quiet af ? — In between https://t.co/F9kp3Mjo2Z\n",
      "Forbes: In photos: 10 most innovative companies in the U.S. 2016\n",
      "https://t.co/u5ifzWoYQS https://t.co/9sTN6YXVxu #homes #LasVegas #smallb…\n",
      "RT @IMFNews: Asia’s growth expected to remain strong and stable at 5.4% this year and 5.3% next https://t.co/IF8heX611L #IMFAsia https://t.…\n"
     ]
    }
   ],
   "source": [
    "import tweepy\n",
    "\n",
    "consumer_api_key = open('consumer_api_key.txt', 'r').read().strip()\n",
    "consumer_secret = open('consumer_secret.txt', 'r').read().strip()\n",
    "access_token = open('access_token.txt', 'r').read().strip()\n",
    "access_token_secret = open('access_token_secret.txt', 'r').read().strip()\n",
    "\n",
    "auth = tweepy.OAuthHandler(consumer_api_key, consumer_secret)\n",
    "auth.set_access_token(access_token, access_token_secret)\n",
    "\n",
    "api = tweepy.API(auth)\n",
    "\n",
    "public_tweets = api.home_timeline()\n",
    "for idx,tweet in enumerate(public_tweets):\n",
    "    print tweet.text\n",
    "    if idx > 5:\n",
    "        break"
   ]
  },
  {
   "cell_type": "code",
   "execution_count": null,
   "metadata": {
    "collapsed": true
   },
   "outputs": [],
   "source": []
  }
 ],
 "metadata": {
  "kernelspec": {
   "display_name": "Python 2",
   "language": "python",
   "name": "python2"
  },
  "language_info": {
   "codemirror_mode": {
    "name": "ipython",
    "version": 2
   },
   "file_extension": ".py",
   "mimetype": "text/x-python",
   "name": "python",
   "nbconvert_exporter": "python",
   "pygments_lexer": "ipython2",
   "version": "2.7.10"
  }
 },
 "nbformat": 4,
 "nbformat_minor": 0
}
