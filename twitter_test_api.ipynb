{
 "cells": [
  {
   "cell_type": "code",
   "execution_count": 59,
   "metadata": {
    "collapsed": false
   },
   "outputs": [
    {
     "name": "stdout",
     "output_type": "stream",
     "text": [
      "How to help #children cope with #stress [infographic] #kids https://t.co/XhTyr87OZD\n",
      "2 people unfollowed me today tracked by https://t.co/bPEA5ja7nh\n",
      "How Do You Achieve Perceived Virality w/ Your #Content? https://t.co/c56YwynQwH @IndiaAM https://t.co/gdCFazwVvQ\n",
      "nIMFjrAexU3m5SLCqzZTeZiPn\n"
     ]
    }
   ],
   "source": [
    "import tweepy\n",
    "\n",
    "consumer_api_key = open('consumer_api_key.txt', 'r').read().strip()\n",
    "consumer_secret = open('consumer_secret.txt', 'r').read().strip()\n",
    "access_token = open('access_token.txt', 'r').read().strip()\n",
    "access_token_secret = open('access_token_secret.txt', 'r').read().strip()\n",
    "\n",
    "auth = tweepy.OAuthHandler(consumer_api_key, consumer_secret)\n",
    "auth.set_access_token(access_token, access_token_secret)\n",
    "\n",
    "api = tweepy.API(auth)\n",
    "\n",
    "public_tweets = api.home_timeline()\n",
    "for idx,tweet in enumerate(public_tweets):\n",
    "    print tweet.text\n",
    "    if idx > 1:\n",
    "        break\n",
    "        \n"
   ]
  },
  {
   "cell_type": "code",
   "execution_count": null,
   "metadata": {
    "collapsed": true
   },
   "outputs": [],
   "source": []
  }
 ],
 "metadata": {
  "kernelspec": {
   "display_name": "Python 2",
   "language": "python",
   "name": "python2"
  },
  "language_info": {
   "codemirror_mode": {
    "name": "ipython",
    "version": 2
   },
   "file_extension": ".py",
   "mimetype": "text/x-python",
   "name": "python",
   "nbconvert_exporter": "python",
   "pygments_lexer": "ipython2",
   "version": "2.7.10"
  }
 },
 "nbformat": 4,
 "nbformat_minor": 0
}
